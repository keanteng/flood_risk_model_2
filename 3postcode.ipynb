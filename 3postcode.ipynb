{
 "cells": [
  {
   "cell_type": "markdown",
   "metadata": {},
   "source": [
    "=IF(D2=\"JHR\",\"Johor\",IF(D2=\"KDH\",\"Kedah\",IF(D2=\"KTN\",\"Kelantan\",IF(D2=\"KUL\",\"Kuala Lumpur\",IF(D2=\"LBN\",\"Wilayah Persekutuan Labuan\",IF(D2=\"MLK\",\"Melaka\",IF(D2=\"NSN\",\"Negeri Sembilan\",IF(D2=\"PHG\",\"Pahang\",IF(D2=\"PJY\",\"Wilayah Persekutuan Putrajaya\",IF(D2=\"PLS\",\"Perlis\",IF(D2=\"PNG\",\"Penang\",IF(D2=\"PRK\",\"Perak\",IF(D2=\"SBH\",\"Sabah\",IF(D2=\"SGR\",\"Selangor\",IF(D2=\"SRW\",\"Sarawak\",IF(D2=\"TRG\",\"Terengganu\",\"\"))))))))))))))))"
   ]
  },
  {
   "cell_type": "code",
   "execution_count": 2,
   "metadata": {},
   "outputs": [],
   "source": [
    "import pandas as pd"
   ]
  },
  {
   "cell_type": "code",
   "execution_count": 3,
   "metadata": {},
   "outputs": [],
   "source": [
    "postcode = pd.read_csv('postcode.csv')"
   ]
  },
  {
   "cell_type": "code",
   "execution_count": 4,
   "metadata": {},
   "outputs": [
    {
     "data": {
      "text/html": [
       "<div>\n",
       "<style scoped>\n",
       "    .dataframe tbody tr th:only-of-type {\n",
       "        vertical-align: middle;\n",
       "    }\n",
       "\n",
       "    .dataframe tbody tr th {\n",
       "        vertical-align: top;\n",
       "    }\n",
       "\n",
       "    .dataframe thead th {\n",
       "        text-align: right;\n",
       "    }\n",
       "</style>\n",
       "<table border=\"1\" class=\"dataframe\">\n",
       "  <thead>\n",
       "    <tr style=\"text-align: right;\">\n",
       "      <th></th>\n",
       "      <th>1000</th>\n",
       "      <th>Alor Redeh</th>\n",
       "      <th>Kangar</th>\n",
       "      <th>PLS</th>\n",
       "    </tr>\n",
       "  </thead>\n",
       "  <tbody>\n",
       "    <tr>\n",
       "      <th>0</th>\n",
       "      <td>1000</td>\n",
       "      <td>Alor Tok Terang</td>\n",
       "      <td>Kangar</td>\n",
       "      <td>PLS</td>\n",
       "    </tr>\n",
       "    <tr>\n",
       "      <th>1</th>\n",
       "      <td>1000</td>\n",
       "      <td>Bohor Gelam</td>\n",
       "      <td>Kangar</td>\n",
       "      <td>PLS</td>\n",
       "    </tr>\n",
       "    <tr>\n",
       "      <th>2</th>\n",
       "      <td>1000</td>\n",
       "      <td>Jalan Abi Tok Hashim</td>\n",
       "      <td>Kangar</td>\n",
       "      <td>PLS</td>\n",
       "    </tr>\n",
       "    <tr>\n",
       "      <th>3</th>\n",
       "      <td>1000</td>\n",
       "      <td>Jalan Alor Sena</td>\n",
       "      <td>Kangar</td>\n",
       "      <td>PLS</td>\n",
       "    </tr>\n",
       "    <tr>\n",
       "      <th>4</th>\n",
       "      <td>1000</td>\n",
       "      <td>Jalan Arau</td>\n",
       "      <td>Kangar</td>\n",
       "      <td>PLS</td>\n",
       "    </tr>\n",
       "  </tbody>\n",
       "</table>\n",
       "</div>"
      ],
      "text/plain": [
       "   1000            Alor Redeh  Kangar  PLS\n",
       "0  1000       Alor Tok Terang  Kangar  PLS\n",
       "1  1000           Bohor Gelam  Kangar  PLS\n",
       "2  1000  Jalan Abi Tok Hashim  Kangar  PLS\n",
       "3  1000       Jalan Alor Sena  Kangar  PLS\n",
       "4  1000            Jalan Arau  Kangar  PLS"
      ]
     },
     "execution_count": 4,
     "metadata": {},
     "output_type": "execute_result"
    }
   ],
   "source": [
    "postcode.head()"
   ]
  }
 ],
 "metadata": {
  "kernelspec": {
   "display_name": "Python 3",
   "language": "python",
   "name": "python3"
  },
  "language_info": {
   "codemirror_mode": {
    "name": "ipython",
    "version": 3
   },
   "file_extension": ".py",
   "mimetype": "text/x-python",
   "name": "python",
   "nbconvert_exporter": "python",
   "pygments_lexer": "ipython3",
   "version": "3.11.4"
  },
  "orig_nbformat": 4
 },
 "nbformat": 4,
 "nbformat_minor": 2
}
