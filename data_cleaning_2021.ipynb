{
 "cells": [
  {
   "cell_type": "code",
   "execution_count": 171,
   "metadata": {},
   "outputs": [],
   "source": [
    "import pandas as pd\n",
    "import seaborn as sns\n",
    "import matplotlib.pyplot as plt\n",
    "import numpy as np"
   ]
  },
  {
   "cell_type": "code",
   "execution_count": 172,
   "metadata": {},
   "outputs": [
    {
     "data": {
      "text/html": [
       "<div>\n",
       "<style scoped>\n",
       "    .dataframe tbody tr th:only-of-type {\n",
       "        vertical-align: middle;\n",
       "    }\n",
       "\n",
       "    .dataframe tbody tr th {\n",
       "        vertical-align: top;\n",
       "    }\n",
       "\n",
       "    .dataframe thead th {\n",
       "        text-align: right;\n",
       "    }\n",
       "</style>\n",
       "<table border=\"1\" class=\"dataframe\">\n",
       "  <thead>\n",
       "    <tr style=\"text-align: right;\">\n",
       "      <th></th>\n",
       "      <th>date</th>\n",
       "      <th>negeri</th>\n",
       "      <th>code</th>\n",
       "      <th>daerah</th>\n",
       "      <th>kawasan_banjir</th>\n",
       "      <th>latitude</th>\n",
       "      <th>longitude</th>\n",
       "      <th>kedalaman_banjir_max</th>\n",
       "      <th>nilai_hujan_max</th>\n",
       "      <th>tempoh_hujan</th>\n",
       "      <th>tempoh_ulang</th>\n",
       "      <th>day</th>\n",
       "      <th>month</th>\n",
       "      <th>year</th>\n",
       "    </tr>\n",
       "  </thead>\n",
       "  <tbody>\n",
       "    <tr>\n",
       "      <th>0</th>\n",
       "      <td>2/1/2021</td>\n",
       "      <td>Johor</td>\n",
       "      <td>JHR</td>\n",
       "      <td>PONTIAN</td>\n",
       "      <td>Kg. Ulu Pulai</td>\n",
       "      <td>1.4808</td>\n",
       "      <td>103.5720</td>\n",
       "      <td>0.4</td>\n",
       "      <td>73.0</td>\n",
       "      <td>3</td>\n",
       "      <td>NORMA\\nL</td>\n",
       "      <td>2</td>\n",
       "      <td>1</td>\n",
       "      <td>2021</td>\n",
       "    </tr>\n",
       "    <tr>\n",
       "      <th>1</th>\n",
       "      <td>3/1/2021</td>\n",
       "      <td>Johor</td>\n",
       "      <td>JHR</td>\n",
       "      <td>PONTIAN</td>\n",
       "      <td>Kg. Sri Gambut</td>\n",
       "      <td>1.6261</td>\n",
       "      <td>103.4498</td>\n",
       "      <td>0.4</td>\n",
       "      <td>19.0</td>\n",
       "      <td>3</td>\n",
       "      <td>NORMA\\nL</td>\n",
       "      <td>3</td>\n",
       "      <td>1</td>\n",
       "      <td>2021</td>\n",
       "    </tr>\n",
       "    <tr>\n",
       "      <th>2</th>\n",
       "      <td>3/1/2021</td>\n",
       "      <td>Johor</td>\n",
       "      <td>JHR</td>\n",
       "      <td>PONTIAN</td>\n",
       "      <td>Pt. Haji Yasin</td>\n",
       "      <td>1.7172</td>\n",
       "      <td>103.3275</td>\n",
       "      <td>0.4</td>\n",
       "      <td>NaN</td>\n",
       "      <td>NaN</td>\n",
       "      <td>NaN</td>\n",
       "      <td>3</td>\n",
       "      <td>1</td>\n",
       "      <td>2021</td>\n",
       "    </tr>\n",
       "    <tr>\n",
       "      <th>3</th>\n",
       "      <td>3/1/2021</td>\n",
       "      <td>Johor</td>\n",
       "      <td>JHR</td>\n",
       "      <td>PONTIAN</td>\n",
       "      <td>Pt. Wak Jabir</td>\n",
       "      <td>1.7432</td>\n",
       "      <td>103.2649</td>\n",
       "      <td>0.4</td>\n",
       "      <td>NaN</td>\n",
       "      <td>NaN</td>\n",
       "      <td>NaN</td>\n",
       "      <td>3</td>\n",
       "      <td>1</td>\n",
       "      <td>2021</td>\n",
       "    </tr>\n",
       "    <tr>\n",
       "      <th>4</th>\n",
       "      <td>1/1/2021</td>\n",
       "      <td>Johor</td>\n",
       "      <td>JHR</td>\n",
       "      <td>JOHOR BAHRU</td>\n",
       "      <td>Kg. Bukit Pulai</td>\n",
       "      <td>1.4793</td>\n",
       "      <td>103.9365</td>\n",
       "      <td>0.3</td>\n",
       "      <td>337.0</td>\n",
       "      <td>48</td>\n",
       "      <td>57</td>\n",
       "      <td>1</td>\n",
       "      <td>1</td>\n",
       "      <td>2021</td>\n",
       "    </tr>\n",
       "  </tbody>\n",
       "</table>\n",
       "</div>"
      ],
      "text/plain": [
       "       date  negeri code       daerah   kawasan_banjir  latitude  longitude  \\\n",
       "0  2/1/2021  Johor   JHR      PONTIAN    Kg. Ulu Pulai    1.4808   103.5720   \n",
       "1  3/1/2021  Johor   JHR      PONTIAN   Kg. Sri Gambut    1.6261   103.4498   \n",
       "2  3/1/2021  Johor   JHR      PONTIAN   Pt. Haji Yasin    1.7172   103.3275   \n",
       "3  3/1/2021  Johor   JHR      PONTIAN    Pt. Wak Jabir    1.7432   103.2649   \n",
       "4  1/1/2021  Johor   JHR  JOHOR BAHRU  Kg. Bukit Pulai    1.4793   103.9365   \n",
       "\n",
       "   kedalaman_banjir_max  nilai_hujan_max tempoh_hujan tempoh_ulang  day  \\\n",
       "0                   0.4             73.0            3     NORMA\\nL    2   \n",
       "1                   0.4             19.0            3     NORMA\\nL    3   \n",
       "2                   0.4              NaN          NaN          NaN    3   \n",
       "3                   0.4              NaN          NaN          NaN    3   \n",
       "4                   0.3            337.0           48           57    1   \n",
       "\n",
       "   month  year  \n",
       "0      1  2021  \n",
       "1      1  2021  \n",
       "2      1  2021  \n",
       "3      1  2021  \n",
       "4      1  2021  "
      ]
     },
     "execution_count": 172,
     "metadata": {},
     "output_type": "execute_result"
    }
   ],
   "source": [
    "df = pd.read_excel(\"Data/2021_all_states.xlsx\")\n",
    "df.head()"
   ]
  },
  {
   "cell_type": "code",
   "execution_count": 173,
   "metadata": {},
   "outputs": [
    {
     "data": {
      "text/plain": [
       "Index(['date', 'negeri', 'code', 'daerah', 'kawasan_banjir', 'latitude',\n",
       "       'longitude', 'kedalaman_banjir_max', 'nilai_hujan_max', 'tempoh_hujan',\n",
       "       'tempoh_ulang', 'day', 'month', 'year'],\n",
       "      dtype='object')"
      ]
     },
     "execution_count": 173,
     "metadata": {},
     "output_type": "execute_result"
    }
   ],
   "source": [
    "df.columns"
   ]
  },
  {
   "cell_type": "markdown",
   "metadata": {},
   "source": [
    "# Check for Null value"
   ]
  },
  {
   "cell_type": "code",
   "execution_count": 174,
   "metadata": {},
   "outputs": [
    {
     "name": "stdout",
     "output_type": "stream",
     "text": [
      "Number of empty coordinates:  569\n",
      "Length of dataframe:  4955\n",
      "Percentage of empty coordinates:  11.483350151362261 %\n"
     ]
    }
   ],
   "source": [
    "# check for empty coordinates in the dataset\n",
    "print(\"Number of empty coordinates: \", df['latitude'].isnull().sum())\n",
    "print(\"Length of dataframe: \", len(df))\n",
    "print(\"Percentage of empty coordinates: \", df['latitude'].isnull().sum()/len(df)*100, \"%\")"
   ]
  },
  {
   "cell_type": "code",
   "execution_count": 175,
   "metadata": {},
   "outputs": [
    {
     "name": "stdout",
     "output_type": "stream",
     "text": [
      "Number of empty flood depth values:  808\n",
      "Percentage of empty flood depth values:  16.306760847628656 %\n"
     ]
    }
   ],
   "source": [
    "# check for missing values in flood depth column\n",
    "print(\"Number of empty flood depth values: \", df['kedalaman_banjir_max'].isnull().sum())\n",
    "print(\"Percentage of empty flood depth values: \", df['kedalaman_banjir_max'].isnull().sum()/len(df)*100, \"%\")"
   ]
  },
  {
   "cell_type": "code",
   "execution_count": 176,
   "metadata": {},
   "outputs": [
    {
     "name": "stdout",
     "output_type": "stream",
     "text": [
      "Number of empty cells in max rainfall:  3825\n",
      "Number of empty cells in rain duration:  3824\n",
      "Number of empty cells in ARI: 3827\n",
      "Percentage of missing values in max rainfall:  77.19475277497477\n",
      "Percentage of missing values in rain duration:  77.17457114026236\n",
      "Percentage of missing values in ARI: 77.2351160443996\n"
     ]
    }
   ],
   "source": [
    "# missing value for max rainfall and the rainfall ARI\n",
    "print(\"Number of empty cells in max rainfall: \", df['nilai_hujan_max'].isnull().sum())\n",
    "print(\"Number of empty cells in rain duration: \", df['tempoh_hujan'].isnull().sum())\n",
    "print(\"Number of empty cells in ARI:\", df[\"tempoh_ulang\"].isnull().sum())\n",
    "\n",
    "# print the percentage of missing values in each column\n",
    "print(\"Percentage of missing values in max rainfall: \", df['nilai_hujan_max'].isnull().sum()/len(df)*100)\n",
    "print('Percentage of missing values in rain duration: ', df['tempoh_hujan'].isnull().sum()/len(df)*100)\n",
    "print(\"Percentage of missing values in ARI:\", df[\"tempoh_ulang\"].isnull().sum()/len(df)*100)"
   ]
  },
  {
   "cell_type": "markdown",
   "metadata": {},
   "source": [
    "- We will drop the max rainfall, rainfall duration and ARI column due to the tremendous amount of missing values\n",
    "- For the coordinate and flood depth columns, we will remove the missing values in flood depth columns and impute the corresponding flood depth either with before fill or 0."
   ]
  },
  {
   "cell_type": "code",
   "execution_count": 177,
   "metadata": {},
   "outputs": [
    {
     "data": {
      "text/html": [
       "<div>\n",
       "<style scoped>\n",
       "    .dataframe tbody tr th:only-of-type {\n",
       "        vertical-align: middle;\n",
       "    }\n",
       "\n",
       "    .dataframe tbody tr th {\n",
       "        vertical-align: top;\n",
       "    }\n",
       "\n",
       "    .dataframe thead th {\n",
       "        text-align: right;\n",
       "    }\n",
       "</style>\n",
       "<table border=\"1\" class=\"dataframe\">\n",
       "  <thead>\n",
       "    <tr style=\"text-align: right;\">\n",
       "      <th></th>\n",
       "      <th>date</th>\n",
       "      <th>negeri</th>\n",
       "      <th>code</th>\n",
       "      <th>daerah</th>\n",
       "      <th>kawasan_banjir</th>\n",
       "      <th>latitude</th>\n",
       "      <th>longitude</th>\n",
       "      <th>kedalaman_banjir_max</th>\n",
       "      <th>day</th>\n",
       "      <th>month</th>\n",
       "      <th>year</th>\n",
       "    </tr>\n",
       "  </thead>\n",
       "  <tbody>\n",
       "    <tr>\n",
       "      <th>0</th>\n",
       "      <td>2/1/2021</td>\n",
       "      <td>Johor</td>\n",
       "      <td>JHR</td>\n",
       "      <td>PONTIAN</td>\n",
       "      <td>Kg. Ulu Pulai</td>\n",
       "      <td>1.4808</td>\n",
       "      <td>103.5720</td>\n",
       "      <td>0.4</td>\n",
       "      <td>2</td>\n",
       "      <td>1</td>\n",
       "      <td>2021</td>\n",
       "    </tr>\n",
       "    <tr>\n",
       "      <th>1</th>\n",
       "      <td>3/1/2021</td>\n",
       "      <td>Johor</td>\n",
       "      <td>JHR</td>\n",
       "      <td>PONTIAN</td>\n",
       "      <td>Kg. Sri Gambut</td>\n",
       "      <td>1.6261</td>\n",
       "      <td>103.4498</td>\n",
       "      <td>0.4</td>\n",
       "      <td>3</td>\n",
       "      <td>1</td>\n",
       "      <td>2021</td>\n",
       "    </tr>\n",
       "    <tr>\n",
       "      <th>2</th>\n",
       "      <td>3/1/2021</td>\n",
       "      <td>Johor</td>\n",
       "      <td>JHR</td>\n",
       "      <td>PONTIAN</td>\n",
       "      <td>Pt. Haji Yasin</td>\n",
       "      <td>1.7172</td>\n",
       "      <td>103.3275</td>\n",
       "      <td>0.4</td>\n",
       "      <td>3</td>\n",
       "      <td>1</td>\n",
       "      <td>2021</td>\n",
       "    </tr>\n",
       "    <tr>\n",
       "      <th>3</th>\n",
       "      <td>3/1/2021</td>\n",
       "      <td>Johor</td>\n",
       "      <td>JHR</td>\n",
       "      <td>PONTIAN</td>\n",
       "      <td>Pt. Wak Jabir</td>\n",
       "      <td>1.7432</td>\n",
       "      <td>103.2649</td>\n",
       "      <td>0.4</td>\n",
       "      <td>3</td>\n",
       "      <td>1</td>\n",
       "      <td>2021</td>\n",
       "    </tr>\n",
       "    <tr>\n",
       "      <th>4</th>\n",
       "      <td>1/1/2021</td>\n",
       "      <td>Johor</td>\n",
       "      <td>JHR</td>\n",
       "      <td>JOHOR BAHRU</td>\n",
       "      <td>Kg. Bukit Pulai</td>\n",
       "      <td>1.4793</td>\n",
       "      <td>103.9365</td>\n",
       "      <td>0.3</td>\n",
       "      <td>1</td>\n",
       "      <td>1</td>\n",
       "      <td>2021</td>\n",
       "    </tr>\n",
       "  </tbody>\n",
       "</table>\n",
       "</div>"
      ],
      "text/plain": [
       "       date  negeri code       daerah   kawasan_banjir  latitude  longitude  \\\n",
       "0  2/1/2021  Johor   JHR      PONTIAN    Kg. Ulu Pulai    1.4808   103.5720   \n",
       "1  3/1/2021  Johor   JHR      PONTIAN   Kg. Sri Gambut    1.6261   103.4498   \n",
       "2  3/1/2021  Johor   JHR      PONTIAN   Pt. Haji Yasin    1.7172   103.3275   \n",
       "3  3/1/2021  Johor   JHR      PONTIAN    Pt. Wak Jabir    1.7432   103.2649   \n",
       "4  1/1/2021  Johor   JHR  JOHOR BAHRU  Kg. Bukit Pulai    1.4793   103.9365   \n",
       "\n",
       "   kedalaman_banjir_max  day  month  year  \n",
       "0                   0.4    2      1  2021  \n",
       "1                   0.4    3      1  2021  \n",
       "2                   0.4    3      1  2021  \n",
       "3                   0.4    3      1  2021  \n",
       "4                   0.3    1      1  2021  "
      ]
     },
     "execution_count": 177,
     "metadata": {},
     "output_type": "execute_result"
    }
   ],
   "source": [
    "df = df.drop([\"nilai_hujan_max\", \"tempoh_hujan\", \"tempoh_ulang\"], axis = 1)\n",
    "df.head()"
   ]
  },
  {
   "cell_type": "code",
   "execution_count": 178,
   "metadata": {},
   "outputs": [],
   "source": [
    "df['kawasan_banjir'] = df['kawasan_banjir'].fillna(value = \"Unkonwn Location\")\n",
    "df[\"kedalaman_banjir_max\"] = df[\"kedalaman_banjir_max\"].fillna(method = \"bfill\")"
   ]
  },
  {
   "cell_type": "code",
   "execution_count": 179,
   "metadata": {},
   "outputs": [
    {
     "data": {
      "text/plain": [
       "date                      0\n",
       "negeri                    0\n",
       "code                      0\n",
       "daerah                    0\n",
       "kawasan_banjir            0\n",
       "latitude                569\n",
       "longitude               569\n",
       "kedalaman_banjir_max      0\n",
       "day                       0\n",
       "month                     0\n",
       "year                      0\n",
       "dtype: int64"
      ]
     },
     "execution_count": 179,
     "metadata": {},
     "output_type": "execute_result"
    }
   ],
   "source": [
    "df.isnull().sum()"
   ]
  },
  {
   "cell_type": "code",
   "execution_count": 180,
   "metadata": {},
   "outputs": [
    {
     "data": {
      "text/html": [
       "<div>\n",
       "<style scoped>\n",
       "    .dataframe tbody tr th:only-of-type {\n",
       "        vertical-align: middle;\n",
       "    }\n",
       "\n",
       "    .dataframe tbody tr th {\n",
       "        vertical-align: top;\n",
       "    }\n",
       "\n",
       "    .dataframe thead th {\n",
       "        text-align: right;\n",
       "    }\n",
       "</style>\n",
       "<table border=\"1\" class=\"dataframe\">\n",
       "  <thead>\n",
       "    <tr style=\"text-align: right;\">\n",
       "      <th></th>\n",
       "      <th>date</th>\n",
       "      <th>negeri</th>\n",
       "      <th>code</th>\n",
       "      <th>daerah</th>\n",
       "      <th>kawasan_banjir</th>\n",
       "      <th>latitude</th>\n",
       "      <th>longitude</th>\n",
       "      <th>kedalaman_banjir_max</th>\n",
       "      <th>day</th>\n",
       "      <th>month</th>\n",
       "      <th>year</th>\n",
       "    </tr>\n",
       "  </thead>\n",
       "  <tbody>\n",
       "    <tr>\n",
       "      <th>0</th>\n",
       "      <td>2/1/2021</td>\n",
       "      <td>Johor</td>\n",
       "      <td>JHR</td>\n",
       "      <td>PONTIAN</td>\n",
       "      <td>Kg. Ulu Pulai</td>\n",
       "      <td>1.4808</td>\n",
       "      <td>103.5720</td>\n",
       "      <td>0.4</td>\n",
       "      <td>2</td>\n",
       "      <td>1</td>\n",
       "      <td>2021</td>\n",
       "    </tr>\n",
       "    <tr>\n",
       "      <th>1</th>\n",
       "      <td>3/1/2021</td>\n",
       "      <td>Johor</td>\n",
       "      <td>JHR</td>\n",
       "      <td>PONTIAN</td>\n",
       "      <td>Kg. Sri Gambut</td>\n",
       "      <td>1.6261</td>\n",
       "      <td>103.4498</td>\n",
       "      <td>0.4</td>\n",
       "      <td>3</td>\n",
       "      <td>1</td>\n",
       "      <td>2021</td>\n",
       "    </tr>\n",
       "    <tr>\n",
       "      <th>2</th>\n",
       "      <td>3/1/2021</td>\n",
       "      <td>Johor</td>\n",
       "      <td>JHR</td>\n",
       "      <td>PONTIAN</td>\n",
       "      <td>Pt. Haji Yasin</td>\n",
       "      <td>1.7172</td>\n",
       "      <td>103.3275</td>\n",
       "      <td>0.4</td>\n",
       "      <td>3</td>\n",
       "      <td>1</td>\n",
       "      <td>2021</td>\n",
       "    </tr>\n",
       "    <tr>\n",
       "      <th>3</th>\n",
       "      <td>3/1/2021</td>\n",
       "      <td>Johor</td>\n",
       "      <td>JHR</td>\n",
       "      <td>PONTIAN</td>\n",
       "      <td>Pt. Wak Jabir</td>\n",
       "      <td>1.7432</td>\n",
       "      <td>103.2649</td>\n",
       "      <td>0.4</td>\n",
       "      <td>3</td>\n",
       "      <td>1</td>\n",
       "      <td>2021</td>\n",
       "    </tr>\n",
       "    <tr>\n",
       "      <th>4</th>\n",
       "      <td>1/1/2021</td>\n",
       "      <td>Johor</td>\n",
       "      <td>JHR</td>\n",
       "      <td>JOHOR BAHRU</td>\n",
       "      <td>Kg. Bukit Pulai</td>\n",
       "      <td>1.4793</td>\n",
       "      <td>103.9365</td>\n",
       "      <td>0.3</td>\n",
       "      <td>1</td>\n",
       "      <td>1</td>\n",
       "      <td>2021</td>\n",
       "    </tr>\n",
       "  </tbody>\n",
       "</table>\n",
       "</div>"
      ],
      "text/plain": [
       "       date  negeri code       daerah   kawasan_banjir  latitude  longitude  \\\n",
       "0  2/1/2021  Johor   JHR      PONTIAN    Kg. Ulu Pulai    1.4808   103.5720   \n",
       "1  3/1/2021  Johor   JHR      PONTIAN   Kg. Sri Gambut    1.6261   103.4498   \n",
       "2  3/1/2021  Johor   JHR      PONTIAN   Pt. Haji Yasin    1.7172   103.3275   \n",
       "3  3/1/2021  Johor   JHR      PONTIAN    Pt. Wak Jabir    1.7432   103.2649   \n",
       "4  1/1/2021  Johor   JHR  JOHOR BAHRU  Kg. Bukit Pulai    1.4793   103.9365   \n",
       "\n",
       "   kedalaman_banjir_max  day  month  year  \n",
       "0                   0.4    2      1  2021  \n",
       "1                   0.4    3      1  2021  \n",
       "2                   0.4    3      1  2021  \n",
       "3                   0.4    3      1  2021  \n",
       "4                   0.3    1      1  2021  "
      ]
     },
     "execution_count": 180,
     "metadata": {},
     "output_type": "execute_result"
    }
   ],
   "source": [
    "df = df.dropna(how = \"any\", axis = 0)\n",
    "df.head()"
   ]
  },
  {
   "cell_type": "code",
   "execution_count": 181,
   "metadata": {},
   "outputs": [
    {
     "data": {
      "text/plain": [
       "date                    0\n",
       "negeri                  0\n",
       "code                    0\n",
       "daerah                  0\n",
       "kawasan_banjir          0\n",
       "latitude                0\n",
       "longitude               0\n",
       "kedalaman_banjir_max    0\n",
       "day                     0\n",
       "month                   0\n",
       "year                    0\n",
       "dtype: int64"
      ]
     },
     "execution_count": 181,
     "metadata": {},
     "output_type": "execute_result"
    }
   ],
   "source": [
    "df.isnull().sum()"
   ]
  },
  {
   "cell_type": "code",
   "execution_count": 182,
   "metadata": {},
   "outputs": [
    {
     "data": {
      "text/plain": [
       "(4386, 11)"
      ]
     },
     "execution_count": 182,
     "metadata": {},
     "output_type": "execute_result"
    }
   ],
   "source": [
    "df.shape"
   ]
  },
  {
   "cell_type": "code",
   "execution_count": 183,
   "metadata": {},
   "outputs": [
    {
     "data": {
      "text/plain": [
       "0       103.5720\n",
       "1       103.4498\n",
       "2       103.3275\n",
       "3       103.2649\n",
       "4       103.9365\n",
       "          ...   \n",
       "4950    103.3961\n",
       "4951    102.9770\n",
       "4952    102.9943\n",
       "4953    103.1735\n",
       "4954    103.1077\n",
       "Name: longitude, Length: 4386, dtype: float64"
      ]
     },
     "execution_count": 183,
     "metadata": {},
     "output_type": "execute_result"
    }
   ],
   "source": [
    "df[\"kedalaman_banjir_max\"].astype(\"float64\")\n",
    "df[\"latitude\"].astype(\"float64\")\n",
    "df[\"longitude\"].astype(\"float64\")"
   ]
  },
  {
   "cell_type": "code",
   "execution_count": 184,
   "metadata": {},
   "outputs": [
    {
     "name": "stdout",
     "output_type": "stream",
     "text": [
      "<class 'pandas.core.frame.DataFrame'>\n",
      "Index: 4386 entries, 0 to 4954\n",
      "Data columns (total 11 columns):\n",
      " #   Column                Non-Null Count  Dtype  \n",
      "---  ------                --------------  -----  \n",
      " 0   date                  4386 non-null   object \n",
      " 1   negeri                4386 non-null   object \n",
      " 2   code                  4386 non-null   object \n",
      " 3   daerah                4386 non-null   object \n",
      " 4   kawasan_banjir        4386 non-null   object \n",
      " 5   latitude              4386 non-null   float64\n",
      " 6   longitude             4386 non-null   float64\n",
      " 7   kedalaman_banjir_max  4386 non-null   float64\n",
      " 8   day                   4386 non-null   int64  \n",
      " 9   month                 4386 non-null   int64  \n",
      " 10  year                  4386 non-null   object \n",
      "dtypes: float64(3), int64(2), object(6)\n",
      "memory usage: 411.2+ KB\n"
     ]
    }
   ],
   "source": [
    "df.info()"
   ]
  },
  {
   "cell_type": "code",
   "execution_count": 185,
   "metadata": {},
   "outputs": [],
   "source": [
    "df.to_csv(\"Cleaned/2021_all_states_cleaned.csv\", index=False)"
   ]
  }
 ],
 "metadata": {
  "kernelspec": {
   "display_name": "Python 3",
   "language": "python",
   "name": "python3"
  },
  "language_info": {
   "codemirror_mode": {
    "name": "ipython",
    "version": 3
   },
   "file_extension": ".py",
   "mimetype": "text/x-python",
   "name": "python",
   "nbconvert_exporter": "python",
   "pygments_lexer": "ipython3",
   "version": "3.11.4"
  },
  "orig_nbformat": 4
 },
 "nbformat": 4,
 "nbformat_minor": 2
}
