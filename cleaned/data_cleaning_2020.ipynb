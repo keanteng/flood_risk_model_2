{
 "cells": [
  {
   "cell_type": "code",
   "execution_count": 1,
   "metadata": {},
   "outputs": [],
   "source": [
    "import pandas as pd\n",
    "import seaborn as sns\n",
    "import matplotlib.pyplot as plt\n",
    "import numpy as np"
   ]
  },
  {
   "cell_type": "code",
   "execution_count": 2,
   "metadata": {},
   "outputs": [
    {
     "data": {
      "text/html": [
       "<div>\n",
       "<style scoped>\n",
       "    .dataframe tbody tr th:only-of-type {\n",
       "        vertical-align: middle;\n",
       "    }\n",
       "\n",
       "    .dataframe tbody tr th {\n",
       "        vertical-align: top;\n",
       "    }\n",
       "\n",
       "    .dataframe thead th {\n",
       "        text-align: right;\n",
       "    }\n",
       "</style>\n",
       "<table border=\"1\" class=\"dataframe\">\n",
       "  <thead>\n",
       "    <tr style=\"text-align: right;\">\n",
       "      <th></th>\n",
       "      <th>date</th>\n",
       "      <th>negeri</th>\n",
       "      <th>code</th>\n",
       "      <th>daerah</th>\n",
       "      <th>kawasan_banjir</th>\n",
       "      <th>latitude</th>\n",
       "      <th>longitude</th>\n",
       "      <th>kedalaman_banjir_max</th>\n",
       "      <th>nilai_hujan_max</th>\n",
       "      <th>tempoh_hujan</th>\n",
       "      <th>tempoh_ulang</th>\n",
       "      <th>day</th>\n",
       "      <th>month</th>\n",
       "      <th>year</th>\n",
       "    </tr>\n",
       "  </thead>\n",
       "  <tbody>\n",
       "    <tr>\n",
       "      <th>0</th>\n",
       "      <td>29/1/2020</td>\n",
       "      <td>Sarawak</td>\n",
       "      <td>SRW</td>\n",
       "      <td>PONTIAN</td>\n",
       "      <td>Kg. Parit Mat Yakin</td>\n",
       "      <td>NaN</td>\n",
       "      <td>NaN</td>\n",
       "      <td>0.6</td>\n",
       "      <td>139</td>\n",
       "      <td>3</td>\n",
       "      <td>49</td>\n",
       "      <td>29</td>\n",
       "      <td>1</td>\n",
       "      <td>2020</td>\n",
       "    </tr>\n",
       "    <tr>\n",
       "      <th>1</th>\n",
       "      <td>29/1/2020</td>\n",
       "      <td>Sarawak</td>\n",
       "      <td>SRW</td>\n",
       "      <td>PONTIAN</td>\n",
       "      <td>Kg. Tenggayun</td>\n",
       "      <td>NaN</td>\n",
       "      <td>NaN</td>\n",
       "      <td>NaN</td>\n",
       "      <td>NaN</td>\n",
       "      <td>NaN</td>\n",
       "      <td>NaN</td>\n",
       "      <td>29</td>\n",
       "      <td>1</td>\n",
       "      <td>2020</td>\n",
       "    </tr>\n",
       "    <tr>\n",
       "      <th>2</th>\n",
       "      <td>29/1/2020</td>\n",
       "      <td>Sarawak</td>\n",
       "      <td>SRW</td>\n",
       "      <td>PONTIAN</td>\n",
       "      <td>Kg . Sri Bunian</td>\n",
       "      <td>NaN</td>\n",
       "      <td>NaN</td>\n",
       "      <td>NaN</td>\n",
       "      <td>NaN</td>\n",
       "      <td>NaN</td>\n",
       "      <td>NaN</td>\n",
       "      <td>29</td>\n",
       "      <td>1</td>\n",
       "      <td>2020</td>\n",
       "    </tr>\n",
       "    <tr>\n",
       "      <th>3</th>\n",
       "      <td>29/1/2020</td>\n",
       "      <td>Sarawak</td>\n",
       "      <td>SRW</td>\n",
       "      <td>PONTIAN</td>\n",
       "      <td>Kg. Pt Hj. Osman</td>\n",
       "      <td>NaN</td>\n",
       "      <td>NaN</td>\n",
       "      <td>NaN</td>\n",
       "      <td>NaN</td>\n",
       "      <td>NaN</td>\n",
       "      <td>NaN</td>\n",
       "      <td>29</td>\n",
       "      <td>1</td>\n",
       "      <td>2020</td>\n",
       "    </tr>\n",
       "    <tr>\n",
       "      <th>4</th>\n",
       "      <td>29/1/2020</td>\n",
       "      <td>Sarawak</td>\n",
       "      <td>SRW</td>\n",
       "      <td>KLUANG</td>\n",
       "      <td>Kg Sri Jaya</td>\n",
       "      <td>NaN</td>\n",
       "      <td>NaN</td>\n",
       "      <td>0.7</td>\n",
       "      <td>84</td>\n",
       "      <td>1</td>\n",
       "      <td>4</td>\n",
       "      <td>29</td>\n",
       "      <td>1</td>\n",
       "      <td>2020</td>\n",
       "    </tr>\n",
       "  </tbody>\n",
       "</table>\n",
       "</div>"
      ],
      "text/plain": [
       "        date   negeri code   daerah       kawasan_banjir  latitude  longitude  \\\n",
       "0  29/1/2020  Sarawak  SRW  PONTIAN  Kg. Parit Mat Yakin       NaN        NaN   \n",
       "1  29/1/2020  Sarawak  SRW  PONTIAN        Kg. Tenggayun       NaN        NaN   \n",
       "2  29/1/2020  Sarawak  SRW  PONTIAN      Kg . Sri Bunian       NaN        NaN   \n",
       "3  29/1/2020  Sarawak  SRW  PONTIAN     Kg. Pt Hj. Osman       NaN        NaN   \n",
       "4  29/1/2020  Sarawak  SRW   KLUANG          Kg Sri Jaya       NaN        NaN   \n",
       "\n",
       "   kedalaman_banjir_max nilai_hujan_max tempoh_hujan tempoh_ulang  day  month  \\\n",
       "0                   0.6             139            3           49   29      1   \n",
       "1                   NaN             NaN          NaN          NaN   29      1   \n",
       "2                   NaN             NaN          NaN          NaN   29      1   \n",
       "3                   NaN             NaN          NaN          NaN   29      1   \n",
       "4                   0.7              84            1            4   29      1   \n",
       "\n",
       "   year  \n",
       "0  2020  \n",
       "1  2020  \n",
       "2  2020  \n",
       "3  2020  \n",
       "4  2020  "
      ]
     },
     "execution_count": 2,
     "metadata": {},
     "output_type": "execute_result"
    }
   ],
   "source": [
    "df = pd.read_excel(\"Data/2020_all_states.xlsx\")\n",
    "df.head()"
   ]
  },
  {
   "cell_type": "markdown",
   "metadata": {},
   "source": [
    "# Check for Null value"
   ]
  },
  {
   "cell_type": "code",
   "execution_count": 3,
   "metadata": {},
   "outputs": [
    {
     "name": "stdout",
     "output_type": "stream",
     "text": [
      "Number of empty coordinates:  194\n",
      "Length of dataframe:  2798\n",
      "Percentage of empty coordinates:  6.933523945675482 %\n"
     ]
    }
   ],
   "source": [
    "# check for empty coordinates in the dataset\n",
    "print(\"Number of empty coordinates: \", df['latitude'].isnull().sum())\n",
    "print(\"Length of dataframe: \", len(df))\n",
    "print(\"Percentage of empty coordinates: \", df['latitude'].isnull().sum()/len(df)*100, \"%\")"
   ]
  },
  {
   "cell_type": "code",
   "execution_count": 4,
   "metadata": {},
   "outputs": [
    {
     "name": "stdout",
     "output_type": "stream",
     "text": [
      "Number of empty flood depth values:  647\n",
      "Percentage of empty flood depth values:  23.123659756969264 %\n"
     ]
    }
   ],
   "source": [
    "# check for missing values in flood depth column\n",
    "print(\"Number of empty flood depth values: \", df['kedalaman_banjir_max'].isnull().sum())\n",
    "print(\"Percentage of empty flood depth values: \", df['kedalaman_banjir_max'].isnull().sum()/len(df)*100, \"%\")"
   ]
  },
  {
   "cell_type": "code",
   "execution_count": 5,
   "metadata": {},
   "outputs": [
    {
     "name": "stdout",
     "output_type": "stream",
     "text": [
      "Number of empty cells in max rainfall:  2032\n",
      "Number of empty cells in rain duration:  2034\n",
      "Number of empty cells in ARI: 2055\n",
      "Percentage of missing values in max rainfall:  72.62330235882773\n",
      "Percentage of missing values in rain duration:  72.69478198713367\n",
      "Percentage of missing values in ARI: 73.44531808434596\n"
     ]
    }
   ],
   "source": [
    "# missing value for max rainfall and the rainfall ARI\n",
    "print(\"Number of empty cells in max rainfall: \", df['nilai_hujan_max'].isnull().sum())\n",
    "print(\"Number of empty cells in rain duration: \", df['tempoh_hujan'].isnull().sum())\n",
    "print(\"Number of empty cells in ARI:\", df[\"tempoh_ulang\"].isnull().sum())\n",
    "\n",
    "# print the percentage of missing values in each column\n",
    "print(\"Percentage of missing values in max rainfall: \", df['nilai_hujan_max'].isnull().sum()/len(df)*100)\n",
    "print('Percentage of missing values in rain duration: ', df['tempoh_hujan'].isnull().sum()/len(df)*100)\n",
    "print(\"Percentage of missing values in ARI:\", df[\"tempoh_ulang\"].isnull().sum()/len(df)*100)"
   ]
  },
  {
   "cell_type": "markdown",
   "metadata": {},
   "source": [
    "- We will drop the max rainfall, rainfall duration and ARI column due to the tremendous amount of missing values\n",
    "- For the coordinate and flood depth columns, we will remove the missing values in flood depth columns and impute the corresponding flood depth either with before fill or 0."
   ]
  },
  {
   "cell_type": "code",
   "execution_count": 6,
   "metadata": {},
   "outputs": [
    {
     "data": {
      "text/html": [
       "<div>\n",
       "<style scoped>\n",
       "    .dataframe tbody tr th:only-of-type {\n",
       "        vertical-align: middle;\n",
       "    }\n",
       "\n",
       "    .dataframe tbody tr th {\n",
       "        vertical-align: top;\n",
       "    }\n",
       "\n",
       "    .dataframe thead th {\n",
       "        text-align: right;\n",
       "    }\n",
       "</style>\n",
       "<table border=\"1\" class=\"dataframe\">\n",
       "  <thead>\n",
       "    <tr style=\"text-align: right;\">\n",
       "      <th></th>\n",
       "      <th>date</th>\n",
       "      <th>negeri</th>\n",
       "      <th>code</th>\n",
       "      <th>daerah</th>\n",
       "      <th>kawasan_banjir</th>\n",
       "      <th>latitude</th>\n",
       "      <th>longitude</th>\n",
       "      <th>kedalaman_banjir_max</th>\n",
       "      <th>day</th>\n",
       "      <th>month</th>\n",
       "      <th>year</th>\n",
       "    </tr>\n",
       "  </thead>\n",
       "  <tbody>\n",
       "    <tr>\n",
       "      <th>0</th>\n",
       "      <td>29/1/2020</td>\n",
       "      <td>Sarawak</td>\n",
       "      <td>SRW</td>\n",
       "      <td>PONTIAN</td>\n",
       "      <td>Kg. Parit Mat Yakin</td>\n",
       "      <td>NaN</td>\n",
       "      <td>NaN</td>\n",
       "      <td>0.6</td>\n",
       "      <td>29</td>\n",
       "      <td>1</td>\n",
       "      <td>2020</td>\n",
       "    </tr>\n",
       "    <tr>\n",
       "      <th>1</th>\n",
       "      <td>29/1/2020</td>\n",
       "      <td>Sarawak</td>\n",
       "      <td>SRW</td>\n",
       "      <td>PONTIAN</td>\n",
       "      <td>Kg. Tenggayun</td>\n",
       "      <td>NaN</td>\n",
       "      <td>NaN</td>\n",
       "      <td>NaN</td>\n",
       "      <td>29</td>\n",
       "      <td>1</td>\n",
       "      <td>2020</td>\n",
       "    </tr>\n",
       "    <tr>\n",
       "      <th>2</th>\n",
       "      <td>29/1/2020</td>\n",
       "      <td>Sarawak</td>\n",
       "      <td>SRW</td>\n",
       "      <td>PONTIAN</td>\n",
       "      <td>Kg . Sri Bunian</td>\n",
       "      <td>NaN</td>\n",
       "      <td>NaN</td>\n",
       "      <td>NaN</td>\n",
       "      <td>29</td>\n",
       "      <td>1</td>\n",
       "      <td>2020</td>\n",
       "    </tr>\n",
       "    <tr>\n",
       "      <th>3</th>\n",
       "      <td>29/1/2020</td>\n",
       "      <td>Sarawak</td>\n",
       "      <td>SRW</td>\n",
       "      <td>PONTIAN</td>\n",
       "      <td>Kg. Pt Hj. Osman</td>\n",
       "      <td>NaN</td>\n",
       "      <td>NaN</td>\n",
       "      <td>NaN</td>\n",
       "      <td>29</td>\n",
       "      <td>1</td>\n",
       "      <td>2020</td>\n",
       "    </tr>\n",
       "    <tr>\n",
       "      <th>4</th>\n",
       "      <td>29/1/2020</td>\n",
       "      <td>Sarawak</td>\n",
       "      <td>SRW</td>\n",
       "      <td>KLUANG</td>\n",
       "      <td>Kg Sri Jaya</td>\n",
       "      <td>NaN</td>\n",
       "      <td>NaN</td>\n",
       "      <td>0.7</td>\n",
       "      <td>29</td>\n",
       "      <td>1</td>\n",
       "      <td>2020</td>\n",
       "    </tr>\n",
       "  </tbody>\n",
       "</table>\n",
       "</div>"
      ],
      "text/plain": [
       "        date   negeri code   daerah       kawasan_banjir  latitude  longitude  \\\n",
       "0  29/1/2020  Sarawak  SRW  PONTIAN  Kg. Parit Mat Yakin       NaN        NaN   \n",
       "1  29/1/2020  Sarawak  SRW  PONTIAN        Kg. Tenggayun       NaN        NaN   \n",
       "2  29/1/2020  Sarawak  SRW  PONTIAN      Kg . Sri Bunian       NaN        NaN   \n",
       "3  29/1/2020  Sarawak  SRW  PONTIAN     Kg. Pt Hj. Osman       NaN        NaN   \n",
       "4  29/1/2020  Sarawak  SRW   KLUANG          Kg Sri Jaya       NaN        NaN   \n",
       "\n",
       "   kedalaman_banjir_max  day  month  year  \n",
       "0                   0.6   29      1  2020  \n",
       "1                   NaN   29      1  2020  \n",
       "2                   NaN   29      1  2020  \n",
       "3                   NaN   29      1  2020  \n",
       "4                   0.7   29      1  2020  "
      ]
     },
     "execution_count": 6,
     "metadata": {},
     "output_type": "execute_result"
    }
   ],
   "source": [
    "df = df.drop([\"nilai_hujan_max\", \"tempoh_hujan\", \"tempoh_ulang\"], axis=1)\n",
    "df.head()"
   ]
  },
  {
   "cell_type": "code",
   "execution_count": 7,
   "metadata": {},
   "outputs": [],
   "source": [
    "df['kawasan_banjir'] = df['kawasan_banjir'].fillna(value = \"Unkonwn Location\")\n",
    "df[\"kedalaman_banjir_max\"] = df[\"kedalaman_banjir_max\"].fillna(method = \"bfill\")"
   ]
  },
  {
   "cell_type": "code",
   "execution_count": 8,
   "metadata": {},
   "outputs": [
    {
     "data": {
      "text/html": [
       "<div>\n",
       "<style scoped>\n",
       "    .dataframe tbody tr th:only-of-type {\n",
       "        vertical-align: middle;\n",
       "    }\n",
       "\n",
       "    .dataframe tbody tr th {\n",
       "        vertical-align: top;\n",
       "    }\n",
       "\n",
       "    .dataframe thead th {\n",
       "        text-align: right;\n",
       "    }\n",
       "</style>\n",
       "<table border=\"1\" class=\"dataframe\">\n",
       "  <thead>\n",
       "    <tr style=\"text-align: right;\">\n",
       "      <th></th>\n",
       "      <th>date</th>\n",
       "      <th>negeri</th>\n",
       "      <th>code</th>\n",
       "      <th>daerah</th>\n",
       "      <th>kawasan_banjir</th>\n",
       "      <th>latitude</th>\n",
       "      <th>longitude</th>\n",
       "      <th>kedalaman_banjir_max</th>\n",
       "      <th>day</th>\n",
       "      <th>month</th>\n",
       "      <th>year</th>\n",
       "    </tr>\n",
       "  </thead>\n",
       "  <tbody>\n",
       "    <tr>\n",
       "      <th>16</th>\n",
       "      <td>29/4/2020</td>\n",
       "      <td>Sarawak</td>\n",
       "      <td>SRW</td>\n",
       "      <td>TANGKAK</td>\n",
       "      <td>2. Kg Parit Bengkok</td>\n",
       "      <td>1.5203</td>\n",
       "      <td>103.9244</td>\n",
       "      <td>0.5</td>\n",
       "      <td>29</td>\n",
       "      <td>4</td>\n",
       "      <td>2020</td>\n",
       "    </tr>\n",
       "    <tr>\n",
       "      <th>18</th>\n",
       "      <td>10/5/2020</td>\n",
       "      <td>Sarawak</td>\n",
       "      <td>SRW</td>\n",
       "      <td>KLUANG</td>\n",
       "      <td>Kg Bentong</td>\n",
       "      <td>2.0475</td>\n",
       "      <td>103.2973</td>\n",
       "      <td>0.5</td>\n",
       "      <td>10</td>\n",
       "      <td>5</td>\n",
       "      <td>2020</td>\n",
       "    </tr>\n",
       "    <tr>\n",
       "      <th>19</th>\n",
       "      <td>10/5/2020</td>\n",
       "      <td>Sarawak</td>\n",
       "      <td>SRW</td>\n",
       "      <td>KLUANG</td>\n",
       "      <td>Jalan Batu Pahat (Petron Tmn Berlian)</td>\n",
       "      <td>2.0173</td>\n",
       "      <td>103.2960</td>\n",
       "      <td>0.5</td>\n",
       "      <td>10</td>\n",
       "      <td>5</td>\n",
       "      <td>2020</td>\n",
       "    </tr>\n",
       "    <tr>\n",
       "      <th>20</th>\n",
       "      <td>10/5/2020</td>\n",
       "      <td>Sarawak</td>\n",
       "      <td>SRW</td>\n",
       "      <td>KLUANG</td>\n",
       "      <td>Taman Intan</td>\n",
       "      <td>2.0147</td>\n",
       "      <td>103.3009</td>\n",
       "      <td>0.5</td>\n",
       "      <td>10</td>\n",
       "      <td>5</td>\n",
       "      <td>2020</td>\n",
       "    </tr>\n",
       "    <tr>\n",
       "      <th>21</th>\n",
       "      <td>10/5/2020</td>\n",
       "      <td>Sarawak</td>\n",
       "      <td>SRW</td>\n",
       "      <td>KLUANG</td>\n",
       "      <td>Taman Emas</td>\n",
       "      <td>2.0205</td>\n",
       "      <td>103.2986</td>\n",
       "      <td>0.5</td>\n",
       "      <td>10</td>\n",
       "      <td>5</td>\n",
       "      <td>2020</td>\n",
       "    </tr>\n",
       "  </tbody>\n",
       "</table>\n",
       "</div>"
      ],
      "text/plain": [
       "         date   negeri code   daerah                         kawasan_banjir  \\\n",
       "16  29/4/2020  Sarawak  SRW  TANGKAK                    2. Kg Parit Bengkok   \n",
       "18  10/5/2020  Sarawak  SRW   KLUANG                             Kg Bentong   \n",
       "19  10/5/2020  Sarawak  SRW   KLUANG  Jalan Batu Pahat (Petron Tmn Berlian)   \n",
       "20  10/5/2020  Sarawak  SRW   KLUANG                            Taman Intan   \n",
       "21  10/5/2020  Sarawak  SRW   KLUANG                             Taman Emas   \n",
       "\n",
       "    latitude  longitude  kedalaman_banjir_max  day  month  year  \n",
       "16    1.5203   103.9244                   0.5   29      4  2020  \n",
       "18    2.0475   103.2973                   0.5   10      5  2020  \n",
       "19    2.0173   103.2960                   0.5   10      5  2020  \n",
       "20    2.0147   103.3009                   0.5   10      5  2020  \n",
       "21    2.0205   103.2986                   0.5   10      5  2020  "
      ]
     },
     "execution_count": 8,
     "metadata": {},
     "output_type": "execute_result"
    }
   ],
   "source": [
    "df = df.dropna(how = \"any\", axis = 0)\n",
    "df.head()"
   ]
  },
  {
   "cell_type": "code",
   "execution_count": 9,
   "metadata": {},
   "outputs": [
    {
     "data": {
      "text/plain": [
       "date                    0\n",
       "negeri                  0\n",
       "code                    0\n",
       "daerah                  0\n",
       "kawasan_banjir          0\n",
       "latitude                0\n",
       "longitude               0\n",
       "kedalaman_banjir_max    0\n",
       "day                     0\n",
       "month                   0\n",
       "year                    0\n",
       "dtype: int64"
      ]
     },
     "execution_count": 9,
     "metadata": {},
     "output_type": "execute_result"
    }
   ],
   "source": [
    "df.isnull().sum()"
   ]
  },
  {
   "cell_type": "code",
   "execution_count": 10,
   "metadata": {},
   "outputs": [
    {
     "data": {
      "text/plain": [
       "(2604, 11)"
      ]
     },
     "execution_count": 10,
     "metadata": {},
     "output_type": "execute_result"
    }
   ],
   "source": [
    "df.shape"
   ]
  },
  {
   "cell_type": "code",
   "execution_count": 11,
   "metadata": {},
   "outputs": [
    {
     "data": {
      "text/plain": [
       "16      103.9244\n",
       "18      103.2973\n",
       "19      103.2960\n",
       "20      103.3009\n",
       "21      103.2986\n",
       "          ...   \n",
       "2789    102.9057\n",
       "2790    103.1058\n",
       "2791    103.1058\n",
       "2792    102.9118\n",
       "2797    103.0604\n",
       "Name: longitude, Length: 2604, dtype: float64"
      ]
     },
     "execution_count": 11,
     "metadata": {},
     "output_type": "execute_result"
    }
   ],
   "source": [
    "df[\"kedalaman_banjir_max\"].astype(\"float64\")\n",
    "df[\"latitude\"].astype(\"float64\")\n",
    "df[\"longitude\"].astype(\"float64\")"
   ]
  },
  {
   "cell_type": "code",
   "execution_count": 12,
   "metadata": {},
   "outputs": [
    {
     "name": "stdout",
     "output_type": "stream",
     "text": [
      "<class 'pandas.core.frame.DataFrame'>\n",
      "Index: 2604 entries, 16 to 2797\n",
      "Data columns (total 11 columns):\n",
      " #   Column                Non-Null Count  Dtype  \n",
      "---  ------                --------------  -----  \n",
      " 0   date                  2604 non-null   object \n",
      " 1   negeri                2604 non-null   object \n",
      " 2   code                  2604 non-null   object \n",
      " 3   daerah                2604 non-null   object \n",
      " 4   kawasan_banjir        2604 non-null   object \n",
      " 5   latitude              2604 non-null   float64\n",
      " 6   longitude             2604 non-null   float64\n",
      " 7   kedalaman_banjir_max  2604 non-null   float64\n",
      " 8   day                   2604 non-null   int64  \n",
      " 9   month                 2604 non-null   int64  \n",
      " 10  year                  2604 non-null   int64  \n",
      "dtypes: float64(3), int64(3), object(5)\n",
      "memory usage: 244.1+ KB\n"
     ]
    }
   ],
   "source": [
    "df.info()"
   ]
  },
  {
   "cell_type": "code",
   "execution_count": 13,
   "metadata": {},
   "outputs": [],
   "source": [
    "df.to_csv(\"Cleaned/2020_all_states_cleaned.csv\", index=False)"
   ]
  }
 ],
 "metadata": {
  "kernelspec": {
   "display_name": "Python 3",
   "language": "python",
   "name": "python3"
  },
  "language_info": {
   "codemirror_mode": {
    "name": "ipython",
    "version": 3
   },
   "file_extension": ".py",
   "mimetype": "text/x-python",
   "name": "python",
   "nbconvert_exporter": "python",
   "pygments_lexer": "ipython3",
   "version": "3.11.4"
  },
  "orig_nbformat": 4
 },
 "nbformat": 4,
 "nbformat_minor": 2
}
