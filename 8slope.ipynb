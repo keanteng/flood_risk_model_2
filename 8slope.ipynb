{
 "cells": [
  {
   "cell_type": "code",
   "execution_count": 9,
   "metadata": {},
   "outputs": [
    {
     "name": "stdout",
     "output_type": "stream",
     "text": [
      "Generating URL ...\n",
      "Downloading data from https://earthengine.googleapis.com/v1/projects/earthengine-legacy/tables/4bbde4430fc7baec4cc1b8d350a54444-2303018182fd8fe21f073ed44820d946:getFeatures\n",
      "Please wait ...\n",
      "Data downloaded to c:\\Users\\Khor Kean Teng\\Downloads\\Flood Risk Model 2\\slope5.csv\n"
     ]
    }
   ],
   "source": [
    "import geemap\n",
    "import ee\n",
    "\n",
    "ee.Initialize()\n",
    "\n",
    "DEM = ee.Image(\"USGS/SRTMGL1_003\") # elevation map\n",
    "\n",
    "#node1 = [-72, -42]\n",
    "#node2 = [-73, -42]\n",
    "#node3 = [-72, -43]\n",
    "#node4 = [103, 3]\n",
    "\n",
    "#nodes = [node1, node2, node3, node4]\n",
    "\n",
    "import pandas as pd\n",
    "df = pd.read_csv('regression_data.csv')\n",
    "nodes = []\n",
    "\n",
    "for i in range(16000, len(df)):\n",
    "    temp = [df['longitude'][i], df['latitude'][i]]\n",
    "    nodes.append(temp)\n",
    "\n",
    "# make points from nodes\n",
    "points = [ee.Geometry.Point(coord) for coord in nodes]\n",
    "\n",
    "# make features from points (name by list order)\n",
    "feats = [ee.Feature(p, {'name': 'node{}'.format(i)}) for i, p in enumerate(points)]\n",
    "\n",
    "# make a featurecollection from points\n",
    "fc = ee.FeatureCollection(feats)\n",
    "\n",
    "slope = ee.Terrain.slope(DEM)\n",
    "\n",
    "# extract points from DEM\n",
    "reducer = ee.Reducer.first()\n",
    "data = slope.reduceRegions(fc, reducer.setOutputs(['slope']), 30)\n",
    "\n",
    "geemap.ee_to_csv(data, filename='slope5.csv')"
   ]
  },
  {
   "cell_type": "markdown",
   "metadata": {},
   "source": [
    "- Batch process is needed due to ee limit rate"
   ]
  },
  {
   "cell_type": "code",
   "execution_count": 4,
   "metadata": {},
   "outputs": [
    {
     "name": "stdout",
     "output_type": "stream",
     "text": [
      "{'name': 'node0', 'slope': 0}\n",
      "{'name': 'node1', 'slope': 2.07560396194458}\n",
      "{'name': 'node2', 'slope': 2.075599431991577}\n",
      "{'name': 'node3', 'slope': 0.9335156439374285}\n",
      "{'name': 'node4', 'slope': 0.9274099469184875}\n"
     ]
    }
   ],
   "source": [
    "for feat in data.getInfo()['features']:\n",
    "    print(feat['properties'])"
   ]
  }
 ],
 "metadata": {
  "kernelspec": {
   "display_name": "Python 3",
   "language": "python",
   "name": "python3"
  },
  "language_info": {
   "codemirror_mode": {
    "name": "ipython",
    "version": 3
   },
   "file_extension": ".py",
   "mimetype": "text/x-python",
   "name": "python",
   "nbconvert_exporter": "python",
   "pygments_lexer": "ipython3",
   "version": "3.11.4"
  },
  "orig_nbformat": 4
 },
 "nbformat": 4,
 "nbformat_minor": 2
}
