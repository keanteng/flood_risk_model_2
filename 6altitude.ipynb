{
 "cells": [
  {
   "cell_type": "code",
   "execution_count": 14,
   "metadata": {},
   "outputs": [
    {
     "data": {
      "text/html": [
       "<p>To authorize access needed by Earth Engine, open the following\n",
       "        URL in a web browser and follow the instructions:</p>\n",
       "        <p><a href=https://code.earthengine.google.com/client-auth?scopes=https%3A//www.googleapis.com/auth/earthengine%20https%3A//www.googleapis.com/auth/devstorage.full_control&request_id=Kb6mDdBt6ihdLeIy45vt2VSF312IshMeQkKysF1eamE&tc=Tq4IybG-rdu2o9mkPVcnHx3sAwoFallII8AmxZkxGTU&cc=HX4hMQ7XBt3xG2AdcarfSZJcfsNMM-2F2WuD4ZZa_LI>https://code.earthengine.google.com/client-auth?scopes=https%3A//www.googleapis.com/auth/earthengine%20https%3A//www.googleapis.com/auth/devstorage.full_control&request_id=Kb6mDdBt6ihdLeIy45vt2VSF312IshMeQkKysF1eamE&tc=Tq4IybG-rdu2o9mkPVcnHx3sAwoFallII8AmxZkxGTU&cc=HX4hMQ7XBt3xG2AdcarfSZJcfsNMM-2F2WuD4ZZa_LI</a></p>\n",
       "        <p>The authorization workflow will generate a code, which you should paste in the box below.</p>\n",
       "        "
      ],
      "text/plain": [
       "<IPython.core.display.HTML object>"
      ]
     },
     "metadata": {},
     "output_type": "display_data"
    },
    {
     "name": "stdout",
     "output_type": "stream",
     "text": [
      "\n",
      "Successfully saved authorization token.\n"
     ]
    }
   ],
   "source": [
    "import ee\n",
    "ee.Authenticate()"
   ]
  },
  {
   "cell_type": "code",
   "execution_count": 21,
   "metadata": {},
   "outputs": [
    {
     "name": "stdout",
     "output_type": "stream",
     "text": [
      "Generating URL ...\n",
      "Downloading data from https://earthengine.googleapis.com/v1/projects/earthengine-legacy/tables/dca45f6226d56c635b47c9bf8811858d-4434df07123aa9106e4dcdba858bff01:getFeatures\n",
      "Please wait ...\n",
      "Data downloaded to c:\\Users\\Khor Kean Teng\\Downloads\\Flood Risk Model 2\\altitude3.csv\n"
     ]
    }
   ],
   "source": [
    "import geemap\n",
    "\n",
    "DEM = ee.Image(\"USGS/SRTMGL1_003\") # elevation map\n",
    "\n",
    "#node1 = [-72, -42]\n",
    "#node2 = [-73, -42]\n",
    "#node3 = [-72, -43]\n",
    "#node4 = [103, 3]\n",
    "\n",
    "#nodes = [node1, node2, node3, node4]\n",
    "\n",
    "import pandas as pd\n",
    "df = pd.read_csv('regression_data.csv')\n",
    "nodes = []\n",
    "\n",
    "for i in range(8000, 12000):\n",
    "    temp = [df['longitude'][i], df['latitude'][i]]\n",
    "    nodes.append(temp)\n",
    "\n",
    "# make points from nodes\n",
    "points = [ee.Geometry.Point(coord) for coord in nodes]\n",
    "\n",
    "# make features from points (name by list order)\n",
    "feats = [ee.Feature(p, {'name': 'node{}'.format(i)}) for i, p in enumerate(points)]\n",
    "\n",
    "# make a featurecollection from points\n",
    "fc = ee.FeatureCollection(feats)\n",
    "\n",
    "# extract points from DEM\n",
    "reducer = ee.Reducer.first()\n",
    "data = DEM.reduceRegions(fc, reducer.setOutputs(['elevation']), 30)\n",
    "\n",
    "geemap.ee_to_csv(data, filename='altitude3.csv')\n",
    "\n",
    "# see data\n",
    "#for feat in data.getInfo()['features']:\n",
    "    # print(feat['properties'])\n",
    "\n",
    "# export as CSV\n",
    "# export as CSV\n",
    "# task = ee.batch.Export.table.toDrive(data, 'pointsDataExtract', 'FOLDER', 'nameOfCSV')\n",
    "#task = ee.batch.Export.table.toDrive(collection=data, folder='data_earth_engine', description='altitude', fileFormat='CSV')\n",
    "#ee.batch.Task(task.id, \"EXPORT_FEATURES\", \"UNSUBMITTED\", task.config).start()"
   ]
  },
  {
   "cell_type": "code",
   "execution_count": 12,
   "metadata": {},
   "outputs": [
    {
     "name": "stdout",
     "output_type": "stream",
     "text": [
      "418\n"
     ]
    }
   ],
   "source": [
    "import pandas as pd\n",
    "import ee\n",
    "import geemap\n",
    "\n",
    "ee.Initialize()\n",
    "\n",
    "data = pd.DataFrame({\n",
    "    'longitude': [102.13],\n",
    "    'latitude': [3.123],\n",
    "})\n",
    "\n",
    "def get_elevation(data):\n",
    "    DEM = ee.Image(\"USGS/SRTMGL1_003\")\n",
    "    \n",
    "    nodes = [data['longitude'][0], data['latitude'][0]]\n",
    "    points = [ee.Geometry.Point(nodes)]\n",
    "    feats = [ee.Feature(p, {'name': 'node{}'.format(i)}) for i, p in enumerate(points)]\n",
    "    fc = ee.FeatureCollection(feats)\n",
    "    reducer = ee.Reducer.first()\n",
    "    data = DEM.reduceRegions(fc, reducer.setOutputs(['elevation']), 30)\n",
    "    elevation = data.getInfo()['features'][0]['properties']['elevation']\n",
    "    return elevation\n",
    "\n",
    "x = get_elevation(data)\n",
    "print(x)"
   ]
  },
  {
   "cell_type": "markdown",
   "metadata": {},
   "source": [
    "For ee, we can only make maximum of 5000 requests per execution. So I split the process into 4000 rows per batch"
   ]
  }
 ],
 "metadata": {
  "kernelspec": {
   "display_name": "Python 3",
   "language": "python",
   "name": "python3"
  },
  "language_info": {
   "codemirror_mode": {
    "name": "ipython",
    "version": 3
   },
   "file_extension": ".py",
   "mimetype": "text/x-python",
   "name": "python",
   "nbconvert_exporter": "python",
   "pygments_lexer": "ipython3",
   "version": "3.11.4"
  },
  "orig_nbformat": 4
 },
 "nbformat": 4,
 "nbformat_minor": 2
}
